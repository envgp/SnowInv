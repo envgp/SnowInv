{
 "cells": [
  {
   "cell_type": "code",
   "execution_count": 2,
   "metadata": {},
   "outputs": [],
   "source": [
    "import numpy as np\n",
    "from scipy import special\n",
    "%matplotlib inline\n",
    "import matplotlib.pyplot as plt\n",
    "import matplotlib\n",
    "matplotlib.rcParams['font.size'] = 14"
   ]
  },
  {
   "cell_type": "markdown",
   "metadata": {},
   "source": [
    "# Calculation of vertical displacement due to loading"
   ]
  },
  {
   "cell_type": "markdown",
   "metadata": {},
   "source": [
    "## Step1: Comparision with Argus et al. (2017)"
   ]
  },
  {
   "cell_type": "markdown",
   "metadata": {},
   "source": [
    "$$ d = Gm $$\n",
    "\n",
    "- d: data (displacement; $n_d\\times1$)\n",
    "- m: model (mass; $n_m\\times1$)"
   ]
  },
  {
   "cell_type": "code",
   "execution_count": 3,
   "metadata": {},
   "outputs": [],
   "source": [
    "def calc_deformation_disk(M, lamda, mu, alpha, r):\n",
    "    ''' \n",
    "    Calculates the deformation for a disk of mass M and radius alpha, on top of a substrate with Lame parameter lambda and shear modulus mu.\n",
    "    M: mass of the disk, kg\n",
    "    lamda: Lame parameter of substrate\n",
    "    mu: shear modulus of substrate\n",
    "    alpha: disk radius, in metres\n",
    "    r: array of distances from centre of disk at which to calculate solution. In metres. eg r = np.linspace(0,50*10**3,num=1000) to go to 50km distance.\n",
    "    \n",
    "    '''\n",
    "    sigma=lamda+2*mu\n",
    "    nabla=lamda + mu\n",
    "    \n",
    "    defm=np.zeros_like(r)\n",
    "    \n",
    "    r_disk = r[r<=alpha]\n",
    "    r_postdisk = r[r>=alpha]\n",
    "    \n",
    "    defm[r<=alpha]=-M * g* (sigma/(np.pi**2 * mu * nabla * alpha) * special.ellipe((r_disk/alpha)**2) )  \n",
    "    defm[r>=alpha]= -M *g* (sigma* r_postdisk / (np.pi**2 * mu * nabla * alpha**2)) * (special.ellipe((alpha/r_postdisk)**2) - (1 - (alpha/r_postdisk)**2) * special.ellipk((alpha/r_postdisk)**2)) \n",
    "    \n",
    "    return defm"
   ]
  },
  {
   "cell_type": "code",
   "execution_count": 4,
   "metadata": {},
   "outputs": [],
   "source": [
    "# These are the displacements which I picked by hand from Argus 2017\n",
    "argus_traced_14_disp = -1*np.array([2.6, 2.3, 1.4, 0.7, 0.3, 0.15]) \n",
    "# And these are the corresponding distances in kilometres\n",
    "argus_traced_14_distance = [0,9,16,20,36,50]"
   ]
  },
  {
   "cell_type": "code",
   "execution_count": 5,
   "metadata": {},
   "outputs": [
    {
     "data": {
      "image/png": "[encoded data removed]",
      "text/plain": [
       "<Figure size 720x504 with 1 Axes>"
      ]
     },
     "metadata": {
      "needs_background": "light"
     },
     "output_type": "display_data"
    }
   ],
   "source": [
    "g = 9.81 # Seogi: gravity acceleration?\n",
    "lamda = 25*10**9 # Lame parameter of granite\n",
    "mu = 40*10**9 # Shear modulus of granite\n",
    "M = np.pi * (14*10**3)**2 * 1 * 1000\n",
    "alpha = 14*10**3\n",
    "r_argus = np.linspace(0,50*10**3,num=1000)\n",
    "\n",
    "delta_d = calc_deformation_disk(M,lamda,mu,alpha,r_argus)\n",
    "#delta_d_2d = calc_deformation_2Ddisk(M,lamda,mu,alpha,r_argus)\n",
    "\n",
    "fig,ax = plt.subplots(1,1,figsize=(10,7))\n",
    "plt.plot(\n",
    "    r_argus/1000,delta_d*1000,color='blue',\n",
    "    label=\"0.62 Gt; Radius = 14km\"\n",
    ") \n",
    "plt.plot(\n",
    "    argus_traced_14_distance,argus_traced_14_disp,'x',\n",
    "    color='blue',\n",
    "    label=\"Traced 14km from Argus et al\"\n",
    ")\n",
    "\n",
    "plt.xlabel('Distance/km')\n",
    "plt.ylabel('Displacement after loading/mm')\n",
    "\n",
    "plt.title(\"Reproducing Argus results\")\n",
    "\n",
    "\n",
    "plt.legend()\n",
    "plt.show()"
   ]
  },
  {
   "cell_type": "markdown",
   "metadata": {},
   "source": [
    "## Step2: Create SimPEG `Problem` class"
   ]
  },
  {
   "cell_type": "code",
   "execution_count": 86,
   "metadata": {},
   "outputs": [],
   "source": [
    "from SimPEG.Problem import BaseProblem\n",
    "from SimPEG.Survey import BaseSurvey\n",
    "from SimPEG import Props, Maps\n",
    "\n",
    "class SWEProblem(BaseProblem):\n",
    "    \n",
    "    mass, massMap, massDeriv = Props.Invertible(\n",
    "        \"Mass (giga tonne)\"\n",
    "    )\n",
    "\n",
    "    mu = Props.PhysicalProperty(\n",
    "        \"Shear modulus (??)\",\n",
    "        default=40.*10**9\n",
    "    )\n",
    "    \n",
    "    alpha = Props.PhysicalProperty(\n",
    "        \"Disk radius (m)\",\n",
    "        default=14.*10**3\n",
    "    )\n",
    "    \n",
    "    lamda = Props.PhysicalProperty(\n",
    "        \"Lame parameter (??)\",\n",
    "        default=25.*10**9\n",
    "    )    \n",
    "    \n",
    "    _G = None\n",
    "    cylinder_locations = None\n",
    "    \n",
    "    def __init__(self, mesh, **kwargs):\n",
    "        BaseProblem.__init__(self, mesh, **kwargs)\n",
    "        mapPair = Maps.IdentityMap  #: Type of mapping to pair with\n",
    "\n",
    "    def fields(self, m):\n",
    "        self.model = m\n",
    "        return self.G.dot(self.massMap * m)\n",
    "\n",
    "    def getJ(self, m, f=None):\n",
    "        \"\"\"\n",
    "            Sensitivity matrix\n",
    "        \"\"\"\n",
    "\n",
    "        if self.massMap is not None:\n",
    "            dmudm = self.massMap.deriv(m)\n",
    "            return self.G*dmudm\n",
    "        else:\n",
    "            return self.G\n",
    "\n",
    "    @property\n",
    "    def G(self):\n",
    "        \"\"\"\n",
    "        Calculate G matrix to have a linear equation\n",
    "        \n",
    "        d = Gm\n",
    "        \n",
    "        \"\"\"\n",
    "        if getattr(self, '_G', None) is None:\n",
    "            # assume a single disk at the moment\n",
    "            # Todo: extend this for multiple cylinders?\n",
    "            nM = self.mesh.nC\n",
    "            self._G = np.zeros((self.survey.nD, nM))\n",
    "            \n",
    "            for ii in range(nM):\n",
    "                sigma=self.lamda+2*mu\n",
    "                nabla=self.lamda+mu\n",
    "                r = np.sqrt(((self.survey.rx_locations-self.cylinder_locations[ii,:])**2).sum(axis=1))\n",
    "                r_disk = r[r<=alpha]\n",
    "                r_postdisk = r[r>=alpha]\n",
    "                self._G[r<=alpha,ii] =-g* (\n",
    "                    sigma/(np.pi**2 * mu * nabla * alpha) * \n",
    "                    special.ellipe((r_disk/alpha)**2) \n",
    "                )  # set the rows of G for receivers within the cylinder.\n",
    "                self._G[r>=alpha,ii] = -g * (\n",
    "                    (sigma* r_postdisk / (np.pi**2 * mu * nabla * alpha**2)) * \n",
    "                    (\n",
    "                        special.ellipe((alpha/r_postdisk)**2) - \n",
    "                        (1 - (alpha/r_postdisk)**2) * special.ellipk((alpha/r_postdisk)**2)\n",
    "                    ) # set the rows of G for recievers outside the cylinder.\n",
    "                )\n",
    "        return self._G * 1e12\n",
    "    \n",
    "    def Jvec(self, m, v, f=None):\n",
    "        return self.G.dot(self.massMap.deriv(m) * v)\n",
    "\n",
    "    def Jtvec(self, m, v, f=None):\n",
    "        return self.massMap.deriv(m).T*self.G.T.dot(v)\n",
    "    \n",
    "class SWESurvey(BaseSurvey):\n",
    "    \n",
    "    rx_locations = None\n",
    "\n",
    "    def __init__(self, **kwargs):\n",
    "        BaseSurvey.__init__(self, **kwargs)\n",
    "    \n",
    "    def eval(self, f):\n",
    "        return f\n",
    "\n",
    "    @property\n",
    "    def nD(self):\n",
    "        return self.rx_locations.shape[0]"
   ]
  },
  {
   "cell_type": "code",
   "execution_count": 87,
   "metadata": {},
   "outputs": [],
   "source": [
    "from SimPEG import Mesh"
   ]
  },
  {
   "cell_type": "code",
   "execution_count": 90,
   "metadata": {},
   "outputs": [
    {
     "name": "stdout",
     "output_type": "stream",
     "text": [
      "SimPEG.Survey assigned new std of 5.00%\n"
     ]
    }
   ],
   "source": [
    "mesh = Mesh.TensorMesh([2,1,1])\n",
    "cylinder_locations = np.array([[0, 0, 0],[50*10**3,0,0]])\n",
    "x = np.linspace(0,50*10**3,num=5)\n",
    "# x = np.array([0, 1000, 5000])\n",
    "y = np.zeros_like(x)\n",
    "z = np.zeros_like(x)\n",
    "\n",
    "rx_locations = np.c_[x, y, z]\n",
    "prob = SWEProblem(\n",
    "    mesh, \n",
    "    massMap = Maps.IdentityMap(mesh),\n",
    "    cylinder_locations=cylinder_locations,\n",
    "    mu=np.array([mu, mu]),\n",
    "    alpha=np.array([alpha, alpha]),    \n",
    ")\n",
    "survey = SWESurvey(rx_locations=rx_locations)\n",
    "prob.pair(survey)\n",
    "M = 1\n",
    "model = np.array([M,M])\n",
    "data = survey.makeSyntheticData(model, std=0.05)\n",
    "# it is happening under the hood\n",
    "# survey.dobs = pred"
   ]
  },
  {
   "cell_type": "code",
   "execution_count": 91,
   "metadata": {},
   "outputs": [
    {
     "data": {
      "text/plain": [
       "array([4.68910039e-05, 4.84542653e-05])"
      ]
     },
     "execution_count": 91,
     "metadata": {},
     "output_type": "execute_result"
    }
   ],
   "source": [
    "prob.Jtvec(model, data)"
   ]
  },
  {
   "cell_type": "code",
   "execution_count": 92,
   "metadata": {},
   "outputs": [
    {
     "data": {
      "text/plain": [
       "array([-0.0049114 , -0.00424622, -0.00249464, -0.00445685, -0.00517796])"
      ]
     },
     "execution_count": 92,
     "metadata": {},
     "output_type": "execute_result"
    }
   ],
   "source": [
    "data"
   ]
  },
  {
   "cell_type": "code",
   "execution_count": 94,
   "metadata": {},
   "outputs": [
    {
     "data": {
      "text/plain": [
       "array([4.68910039e-05, 4.84542653e-05])"
      ]
     },
     "execution_count": 94,
     "metadata": {},
     "output_type": "execute_result"
    }
   ],
   "source": [
    "np.dot(prob.G.T, data)"
   ]
  },
  {
   "cell_type": "code",
   "execution_count": 96,
   "metadata": {},
   "outputs": [
    {
     "data": {
      "text/plain": [
       "[<matplotlib.lines.Line2D at 0xd1561bb38>]"
      ]
     },
     "execution_count": 96,
     "metadata": {},
     "output_type": "execute_result"
    },
    {
     "data": {
      "image/png": "[encoded data removed]",
      "text/plain": [
       "<Figure size 432x288 with 1 Axes>"
      ]
     },
     "metadata": {
      "needs_background": "light"
     },
     "output_type": "display_data"
    }
   ],
   "source": [
    "plt.plot(survey.rx_locations[:,0],data)\n",
    "#plt.plot(delta_d, '.')"
   ]
  },
  {
   "cell_type": "markdown",
   "metadata": {},
   "source": [
    "## Step2: Inversion"
   ]
  },
  {
   "cell_type": "code",
   "execution_count": 97,
   "metadata": {},
   "outputs": [
    {
     "name": "stdout",
     "output_type": "stream",
     "text": [
      "SimPEG.DataMisfit.l2_DataMisfit assigning default eps of 1e-5 * ||dobs||\n",
      "SimPEG.InvProblem will set Regularization.mref to m0.\n",
      "\n",
      "    SimPEG.InvProblem is setting bfgsH0 to the inverse of the eval2Deriv.\n",
      "    ***Done using same Solver and solverOpts as the problem***\n",
      "model has any nan: 0\n",
      "============================ Inexact Gauss Newton ============================\n",
      "  #     beta     phi_d     phi_m       f      |proj(x-g)-x|  LS    Comment   \n",
      "-----------------------------------------------------------------------------\n",
      "x0 has any nan: 0\n",
      "   0  0.00e+00  9.99e+02  0.00e+00  9.99e+02    1.43e+03      0              \n",
      "------------------------- STOP! -------------------------\n",
      "1 : |fc-fOld| = 0.0000e+00 <= tolF*(1+|f0|) = 0.0000e+00\n",
      "0 : |xc-x_last| = 1.3993e+00 <= tolX*(1+|x0|) = 0.0000e+00\n",
      "0 : |proj(x-g)-x|    = 1.4259e+03 <= tolG          = 0.0000e+00\n",
      "0 : |proj(x-g)-x|    = 1.4259e+03 <= 1e3*eps       = 0.0000e+00\n",
      "0 : maxIter   =      60    <= iter          =      1\n",
      "------------------------- DONE! -------------------------\n"
     ]
    }
   ],
   "source": [
    "from SimPEG import Mesh\n",
    "from SimPEG import Problem\n",
    "from SimPEG import Survey\n",
    "from SimPEG import DataMisfit\n",
    "from SimPEG import Directives\n",
    "from SimPEG import Optimization\n",
    "from SimPEG import Regularization\n",
    "from SimPEG import InvProblem\n",
    "from SimPEG import Inversion\n",
    "\n",
    "\n",
    "reg = Regularization.Tikhonov(mesh, alpha_s=1., alpha_x=1.)\n",
    "dmis = DataMisfit.l2_DataMisfit(survey)\n",
    "opt = Optimization.InexactGaussNewton(maxIter=60)\n",
    "invProb = InvProblem.BaseInvProblem(dmis, reg, opt)\n",
    "target = Directives.TargetMisfit()\n",
    "directives = [target]\n",
    "invProb.beta = 0.\n",
    "inv = Inversion.BaseInversion(invProb, directiveList=directives)\n",
    "m0 = np.zeros(mesh.nC)\n",
    "opt.tolG = 0.\n",
    "opt.eps = 0.\n",
    "opt.tolF = 0.\n",
    "opt.tolX = 0.\n",
    "mrec = inv.run(m0)"
   ]
  },
  {
   "cell_type": "code",
   "execution_count": 98,
   "metadata": {},
   "outputs": [
    {
     "data": {
      "text/plain": [
       "[<matplotlib.lines.Line2D at 0xd14da1da0>]"
      ]
     },
     "execution_count": 98,
     "metadata": {},
     "output_type": "execute_result"
    },
    {
     "data": {
      "image/png": "[encoded data removed]",
      "text/plain": [
       "<Figure size 432x288 with 1 Axes>"
      ]
     },
     "metadata": {
      "needs_background": "light"
     },
     "output_type": "display_data"
    }
   ],
   "source": [
    "plt.plot(invProb.dpred, lw=2)\n",
    "plt.plot(survey.dobs, 'kx')"
   ]
  },
  {
   "cell_type": "code",
   "execution_count": 102,
   "metadata": {},
   "outputs": [],
   "source": [
    "H = np.dot(prob.G.T, prob.G)"
   ]
  },
  {
   "cell_type": "code",
   "execution_count": 103,
   "metadata": {},
   "outputs": [],
   "source": [
    "g = prob.G.T.dot(data)"
   ]
  },
  {
   "cell_type": "code",
   "execution_count": 104,
   "metadata": {},
   "outputs": [],
   "source": [
    "solution = np.linalg.solve(H, g)"
   ]
  },
  {
   "cell_type": "code",
   "execution_count": 105,
   "metadata": {},
   "outputs": [
    {
     "data": {
      "text/plain": [
       "array([0.95904148, 1.0322809 ])"
      ]
     },
     "execution_count": 105,
     "metadata": {},
     "output_type": "execute_result"
    }
   ],
   "source": [
    "solution"
   ]
  },
  {
   "cell_type": "code",
   "execution_count": 12,
   "metadata": {},
   "outputs": [
    {
     "data": {
      "text/plain": [
       "array([[    0,     0,     0],\n",
       "       [10000,     0,     0]])"
      ]
     },
     "execution_count": 12,
     "metadata": {},
     "output_type": "execute_result"
    }
   ],
   "source": [
    "prob.cylinder_locations\n"
   ]
  },
  {
   "cell_type": "code",
   "execution_count": 13,
   "metadata": {},
   "outputs": [
    {
     "data": {
      "text/plain": [
       "array([[    0.        ,     0.        ,     0.        ],\n",
       "       [   50.05005005,     0.        ,     0.        ],\n",
       "       [  100.1001001 ,     0.        ,     0.        ],\n",
       "       ...,\n",
       "       [49899.8998999 ,     0.        ,     0.        ],\n",
       "       [49949.94994995,     0.        ,     0.        ],\n",
       "       [50000.        ,     0.        ,     0.        ]])"
      ]
     },
     "execution_count": 13,
     "metadata": {},
     "output_type": "execute_result"
    }
   ],
   "source": [
    "survey.rx_locations\n"
   ]
  },
  {
   "cell_type": "code",
   "execution_count": 14,
   "metadata": {},
   "outputs": [
    {
     "data": {
      "text/plain": [
       "array([-0.00514865, -0.00515319, -0.00515768, -0.00516211, -0.00516648,\n",
       "       -0.0051708 , -0.00517507, -0.00517928, -0.00518343, -0.00518754,\n",
       "       -0.00519159, -0.00519558, -0.00519953, -0.00520342, -0.00520726,\n",
       "       -0.00521105, -0.00521479, -0.00521847, -0.00522211, -0.00522569,\n",
       "       -0.00522923, -0.00523271, -0.00523615, -0.00523954, -0.00524287,\n",
       "       -0.00524616, -0.0052494 , -0.00525259, -0.00525573, -0.00525883,\n",
       "       -0.00526188, -0.00526488, -0.00526783, -0.00527073, -0.00527359,\n",
       "       -0.0052764 , -0.00527917, -0.00528189, -0.00528456, -0.00528718,\n",
       "       -0.00528976, -0.0052923 , -0.00529479, -0.00529723, -0.00529963,\n",
       "       -0.00530198, -0.00530429, -0.00530656, -0.00530878, -0.00531095,\n",
       "       -0.00531308, -0.00531517, -0.00531721, -0.00531921, -0.00532116,\n",
       "       -0.00532307, -0.00532494, -0.00532676, -0.00532854, -0.00533028,\n",
       "       -0.00533197, -0.00533362, -0.00533523, -0.0053368 , -0.00533832,\n",
       "       -0.0053398 , -0.00534123, -0.00534263, -0.00534398, -0.00534529,\n",
       "       -0.00534655, -0.00534777, -0.00534896, -0.0053501 , -0.00535119,\n",
       "       -0.00535225, -0.00535326, -0.00535423, -0.00535516, -0.00535605,\n",
       "       -0.0053569 , -0.0053577 , -0.00535846, -0.00535918, -0.00535986,\n",
       "       -0.0053605 , -0.00536109, -0.00536165, -0.00536216, -0.00536263,\n",
       "       -0.00536306, -0.00536345, -0.0053638 , -0.0053641 , -0.00536437,\n",
       "       -0.00536459, -0.00536477, -0.00536491, -0.00536501, -0.00536507,\n",
       "       -0.00536509, -0.00536506, -0.005365  , -0.00536489, -0.00536474,\n",
       "       -0.00536455, -0.00536432, -0.00536405, -0.00536373, -0.00536338,\n",
       "       -0.00536298, -0.00536254, -0.00536206, -0.00536154, -0.00536098,\n",
       "       -0.00536037, -0.00535973, -0.00535904, -0.00535831, -0.00535754,\n",
       "       -0.00535673, -0.00535588, -0.00535498, -0.00535404, -0.00535306,\n",
       "       -0.00535204, -0.00535098, -0.00534987, -0.00534872, -0.00534753,\n",
       "       -0.0053463 , -0.00534503, -0.00534371, -0.00534235, -0.00534095,\n",
       "       -0.0053395 , -0.00533802, -0.00533649, -0.00533491, -0.0053333 ,\n",
       "       -0.00533164, -0.00532994, -0.00532819, -0.0053264 , -0.00532457,\n",
       "       -0.0053227 , -0.00532078, -0.00531881, -0.00531681, -0.00531475,\n",
       "       -0.00531266, -0.00531052, -0.00530834, -0.00530611, -0.00530384,\n",
       "       -0.00530152, -0.00529916, -0.00529675, -0.00529429, -0.0052918 ,\n",
       "       -0.00528925, -0.00528666, -0.00528403, -0.00528135, -0.00527862,\n",
       "       -0.00527584, -0.00527302, -0.00527016, -0.00526724, -0.00526428,\n",
       "       -0.00526127, -0.00525821, -0.00525511, -0.00525196, -0.00524876,\n",
       "       -0.00524551, -0.00524221, -0.00523886, -0.00523547, -0.00523202,\n",
       "       -0.00522853, -0.00522498, -0.00522139, -0.00521774, -0.00521404,\n",
       "       -0.0052103 , -0.0052065 , -0.00520265, -0.00519874, -0.00519479,\n",
       "       -0.00519078, -0.00518672, -0.00518261, -0.00517844, -0.00517422,\n",
       "       -0.00516994, -0.00516561, -0.00516123, -0.00515678, -0.00515229,\n",
       "       -0.00514773, -0.00514312, -0.00513845, -0.00513373, -0.00512894,\n",
       "       -0.0051241 , -0.00511919, -0.00511423, -0.00510921, -0.00510412,\n",
       "       -0.00509898, -0.00509377, -0.0050885 , -0.00508317, -0.00507777,\n",
       "       -0.00507231, -0.00506678, -0.00506119, -0.00505553, -0.0050498 ,\n",
       "       -0.005044  , -0.00503814, -0.0050322 , -0.00502619, -0.00502011,\n",
       "       -0.00501396, -0.00500774, -0.00500144, -0.00499506, -0.00498861,\n",
       "       -0.00498208, -0.00497547, -0.00496878, -0.00496201, -0.00495516,\n",
       "       -0.00494822, -0.00494119, -0.00493408, -0.00492688, -0.00491958,\n",
       "       -0.0049122 , -0.00490472, -0.00489714, -0.00488947, -0.00488169,\n",
       "       -0.00487381, -0.00486583, -0.00485774, -0.00484954, -0.00484122,\n",
       "       -0.00483279, -0.00482423, -0.00481555, -0.00480675, -0.00479781,\n",
       "       -0.00478874, -0.00477952, -0.00477016, -0.00476065, -0.00475098,\n",
       "       -0.00474114, -0.00473113, -0.00472094, -0.00471056, -0.00469998,\n",
       "       -0.00468918, -0.00467816, -0.0046669 , -0.00465538, -0.00464358,\n",
       "       -0.00463147, -0.00461903, -0.00460621, -0.00459298, -0.00457927,\n",
       "       -0.004565  , -0.00455005, -0.00453423, -0.00451722, -0.00449826,\n",
       "       -0.00447373, -0.00445321, -0.00443551, -0.00441923, -0.00440392,\n",
       "       -0.00438935, -0.00437537, -0.00436188, -0.00434882, -0.00433613,\n",
       "       -0.00432377, -0.0043117 , -0.0042999 , -0.00428834, -0.004277  ,\n",
       "       -0.00426587, -0.00425493, -0.00424417, -0.00423357, -0.00422313,\n",
       "       -0.00421283, -0.00420267, -0.00419264, -0.00418274, -0.00417295,\n",
       "       -0.00416327, -0.00415369, -0.00414422, -0.00413484, -0.00412555,\n",
       "       -0.00411635, -0.00410723, -0.00409819, -0.00408923, -0.00408033,\n",
       "       -0.00407151, -0.00406276, -0.00405407, -0.00404544, -0.00403687,\n",
       "       -0.00402835, -0.0040199 , -0.00401149, -0.00400313, -0.00399483,\n",
       "       -0.00398656, -0.00397835, -0.00397018, -0.00396204, -0.00395395,\n",
       "       -0.0039459 , -0.00393788, -0.0039299 , -0.00392195, -0.00391404,\n",
       "       -0.00390615, -0.0038983 , -0.00389047, -0.00388268, -0.00387491,\n",
       "       -0.00386716, -0.00385944, -0.00385174, -0.00384407, -0.00383641,\n",
       "       -0.00382878, -0.00382117, -0.00381357, -0.00380599, -0.00379843,\n",
       "       -0.00379088, -0.00378335, -0.00377583, -0.00376833, -0.00376083,\n",
       "       -0.00375335, -0.00374588, -0.00373842, -0.00373097, -0.00372353,\n",
       "       -0.0037161 , -0.00370867, -0.00370125, -0.00369383, -0.00368642,\n",
       "       -0.00367901, -0.00367161, -0.00366421, -0.00365681, -0.00364941,\n",
       "       -0.00364202, -0.00363462, -0.00362723, -0.00361983, -0.00361243,\n",
       "       -0.00360503, -0.00359763, -0.00359022, -0.00358281, -0.00357539,\n",
       "       -0.00356797, -0.00356054, -0.00355311, -0.00354566, -0.00353821,\n",
       "       -0.00353075, -0.00352329, -0.00351581, -0.00350832, -0.00350082,\n",
       "       -0.00349331, -0.00348579, -0.00347825, -0.0034707 , -0.00346314,\n",
       "       -0.00345556, -0.00344797, -0.00344036, -0.00343273, -0.00342509,\n",
       "       -0.00341743, -0.00340974, -0.00340204, -0.00339432, -0.00338658,\n",
       "       -0.00337882, -0.00337103, -0.00336322, -0.00335539, -0.00334753,\n",
       "       -0.00333965, -0.00333174, -0.00332381, -0.00331584, -0.00330785,\n",
       "       -0.00329983, -0.00329178, -0.0032837 , -0.00327558, -0.00326743,\n",
       "       -0.00325925, -0.00325103, -0.00324278, -0.00323449, -0.00322616,\n",
       "       -0.00321779, -0.00320939, -0.00320094, -0.00319245, -0.00318391,\n",
       "       -0.00317533, -0.0031667 , -0.00315803, -0.0031493 , -0.00314053,\n",
       "       -0.0031317 , -0.00312282, -0.00311388, -0.00310488, -0.00309583,\n",
       "       -0.00308671, -0.00307753, -0.00306829, -0.00305898, -0.0030496 ,\n",
       "       -0.00304014, -0.00303062, -0.00302101, -0.00301133, -0.00300156,\n",
       "       -0.0029917 , -0.00298175, -0.00297171, -0.00296158, -0.00295134,\n",
       "       -0.00294099, -0.00293053, -0.00291996, -0.00290926, -0.00289843,\n",
       "       -0.00288746, -0.00287635, -0.00286509, -0.00285367, -0.00284207,\n",
       "       -0.00283029, -0.00281831, -0.00280611, -0.00279368, -0.002781  ,\n",
       "       -0.00276803, -0.00275475, -0.00274112, -0.00272709, -0.0027126 ,\n",
       "       -0.00269755, -0.00268182, -0.00266521, -0.00264734, -0.00262724,\n",
       "       -0.0026019 , -0.00258173, -0.00256392, -0.00254745, -0.00253192,\n",
       "       -0.00251712, -0.00250292, -0.00248922, -0.00247597, -0.00246311,\n",
       "       -0.0024506 , -0.0024384 , -0.0024265 , -0.00241486, -0.00240347,\n",
       "       -0.00239231, -0.00238137, -0.00237063, -0.00236009, -0.00234972,\n",
       "       -0.00233953, -0.00232951, -0.00231964, -0.00230992, -0.00230035,\n",
       "       -0.00229092, -0.00228161, -0.00227244, -0.00226339, -0.00225446,\n",
       "       -0.00224564, -0.00223694, -0.00222834, -0.00221985, -0.00221145,\n",
       "       -0.00220316, -0.00219496, -0.00218686, -0.00217884, -0.00217092,\n",
       "       -0.00216307, -0.00215532, -0.00214764, -0.00214004, -0.00213253,\n",
       "       -0.00212508, -0.00211771, -0.00211042, -0.00210319, -0.00209604,\n",
       "       -0.00208895, -0.00208193, -0.00207497, -0.00206808, -0.00206125,\n",
       "       -0.00205448, -0.00204777, -0.00204112, -0.00203453, -0.00202799,\n",
       "       -0.00202151, -0.00201509, -0.00200872, -0.0020024 , -0.00199614,\n",
       "       -0.00198992, -0.00198376, -0.00197765, -0.00197158, -0.00196556,\n",
       "       -0.00195959, -0.00195367, -0.00194779, -0.00194196, -0.00193617,\n",
       "       -0.00193043, -0.00192472, -0.00191906, -0.00191345, -0.00190787,\n",
       "       -0.00190233, -0.00189684, -0.00189138, -0.00188596, -0.00188059,\n",
       "       -0.00187524, -0.00186994, -0.00186467, -0.00185944, -0.00185425,\n",
       "       -0.00184909, -0.00184396, -0.00183887, -0.00183382, -0.0018288 ,\n",
       "       -0.00182381, -0.00181885, -0.00181393, -0.00180904, -0.00180418,\n",
       "       -0.00179935, -0.00179455, -0.00178978, -0.00178505, -0.00178034,\n",
       "       -0.00177566, -0.00177101, -0.00176639, -0.0017618 , -0.00175724,\n",
       "       -0.0017527 , -0.0017482 , -0.00174372, -0.00173926, -0.00173484,\n",
       "       -0.00173044, -0.00172606, -0.00172171, -0.00171739, -0.00171309,\n",
       "       -0.00170882, -0.00170457, -0.00170035, -0.00169615, -0.00169198,\n",
       "       -0.00168783, -0.0016837 , -0.00167959, -0.00167551, -0.00167145,\n",
       "       -0.00166742, -0.0016634 , -0.00165941, -0.00165544, -0.0016515 ,\n",
       "       -0.00164757, -0.00164367, -0.00163978, -0.00163592, -0.00163208,\n",
       "       -0.00162826, -0.00162446, -0.00162067, -0.00161691, -0.00161317,\n",
       "       -0.00160945, -0.00160575, -0.00160207, -0.0015984 , -0.00159476,\n",
       "       -0.00159113, -0.00158752, -0.00158394, -0.00158036, -0.00157681,\n",
       "       -0.00157328, -0.00156976, -0.00156626, -0.00156278, -0.00155932,\n",
       "       -0.00155587, -0.00155244, -0.00154902, -0.00154563, -0.00154225,\n",
       "       -0.00153888, -0.00153554, -0.00153221, -0.00152889, -0.00152559,\n",
       "       -0.00152231, -0.00151904, -0.00151579, -0.00151255, -0.00150933,\n",
       "       -0.00150613, -0.00150294, -0.00149976, -0.0014966 , -0.00149345,\n",
       "       -0.00149032, -0.00148721, -0.0014841 , -0.00148102, -0.00147794,\n",
       "       -0.00147488, -0.00147183, -0.0014688 , -0.00146578, -0.00146278,\n",
       "       -0.00145979, -0.00145681, -0.00145384, -0.00145089, -0.00144795,\n",
       "       -0.00144503, -0.00144212, -0.00143922, -0.00143633, -0.00143346,\n",
       "       -0.00143059, -0.00142775, -0.00142491, -0.00142208, -0.00141927,\n",
       "       -0.00141647, -0.00141368, -0.00141091, -0.00140814, -0.00140539,\n",
       "       -0.00140265, -0.00139992, -0.0013972 , -0.0013945 , -0.0013918 ,\n",
       "       -0.00138912, -0.00138645, -0.00138379, -0.00138114, -0.0013785 ,\n",
       "       -0.00137587, -0.00137325, -0.00137065, -0.00136805, -0.00136546,\n",
       "       -0.00136289, -0.00136033, -0.00135777, -0.00135523, -0.0013527 ,\n",
       "       -0.00135017, -0.00134766, -0.00134516, -0.00134267, -0.00134018,\n",
       "       -0.00133771, -0.00133525, -0.00133279, -0.00133035, -0.00132792,\n",
       "       -0.00132549, -0.00132308, -0.00132067, -0.00131828, -0.00131589,\n",
       "       -0.00131351, -0.00131114, -0.00130879, -0.00130644, -0.00130409,\n",
       "       -0.00130176, -0.00129944, -0.00129713, -0.00129482, -0.00129252,\n",
       "       -0.00129024, -0.00128796, -0.00128569, -0.00128342, -0.00128117,\n",
       "       -0.00127893, -0.00127669, -0.00127446, -0.00127224, -0.00127003,\n",
       "       -0.00126783, -0.00126563, -0.00126344, -0.00126126, -0.00125909,\n",
       "       -0.00125693, -0.00125477, -0.00125263, -0.00125049, -0.00124836,\n",
       "       -0.00124623, -0.00124412, -0.00124201, -0.00123991, -0.00123781,\n",
       "       -0.00123573, -0.00123365, -0.00123158, -0.00122951, -0.00122746,\n",
       "       -0.00122541, -0.00122336, -0.00122133, -0.0012193 , -0.00121728,\n",
       "       -0.00121527, -0.00121326, -0.00121126, -0.00120927, -0.00120728,\n",
       "       -0.00120531, -0.00120333, -0.00120137, -0.00119941, -0.00119746,\n",
       "       -0.00119552, -0.00119358, -0.00119165, -0.00118972, -0.0011878 ,\n",
       "       -0.00118589, -0.00118399, -0.00118209, -0.0011802 , -0.00117831,\n",
       "       -0.00117643, -0.00117456, -0.00117269, -0.00117083, -0.00116898,\n",
       "       -0.00116713, -0.00116529, -0.00116345, -0.00116162, -0.0011598 ,\n",
       "       -0.00115798, -0.00115617, -0.00115436, -0.00115256, -0.00115077,\n",
       "       -0.00114898, -0.0011472 , -0.00114542, -0.00114365, -0.00114189,\n",
       "       -0.00114013, -0.00113837, -0.00113663, -0.00113488, -0.00113315,\n",
       "       -0.00113142, -0.00112969, -0.00112797, -0.00112626, -0.00112455,\n",
       "       -0.00112284, -0.00112115, -0.00111945, -0.00111777, -0.00111608,\n",
       "       -0.00111441, -0.00111274, -0.00111107, -0.00110941, -0.00110775,\n",
       "       -0.0011061 , -0.00110446, -0.00110282, -0.00110118, -0.00109955,\n",
       "       -0.00109793, -0.00109631, -0.00109469, -0.00109308, -0.00109148,\n",
       "       -0.00108988, -0.00108828, -0.00108669, -0.0010851 , -0.00108352,\n",
       "       -0.00108195, -0.00108038, -0.00107881, -0.00107725, -0.00107569,\n",
       "       -0.00107414, -0.00107259, -0.00107105, -0.00106951, -0.00106798,\n",
       "       -0.00106645, -0.00106492, -0.0010634 , -0.00106189, -0.00106038,\n",
       "       -0.00105887, -0.00105737, -0.00105587, -0.00105438, -0.00105289,\n",
       "       -0.0010514 , -0.00104992, -0.00104845, -0.00104698, -0.00104551,\n",
       "       -0.00104405, -0.00104259, -0.00104113, -0.00103968, -0.00103824,\n",
       "       -0.0010368 , -0.00103536, -0.00103393, -0.0010325 , -0.00103107,\n",
       "       -0.00102965, -0.00102823, -0.00102682, -0.00102541, -0.00102401,\n",
       "       -0.00102261, -0.00102121, -0.00101982, -0.00101843, -0.00101704,\n",
       "       -0.00101566, -0.00101428, -0.00101291, -0.00101154, -0.00101018,\n",
       "       -0.00100881, -0.00100746, -0.0010061 , -0.00100475, -0.0010034 ,\n",
       "       -0.00100206, -0.00100072, -0.00099939, -0.00099805, -0.00099673,\n",
       "       -0.0009954 , -0.00099408, -0.00099276, -0.00099145, -0.00099014,\n",
       "       -0.00098883, -0.00098753, -0.00098623, -0.00098494, -0.00098364,\n",
       "       -0.00098235, -0.00098107, -0.00097979, -0.00097851, -0.00097723,\n",
       "       -0.00097596, -0.0009747 , -0.00097343, -0.00097217, -0.00097091,\n",
       "       -0.00096966, -0.00096841, -0.00096716, -0.00096591, -0.00096467,\n",
       "       -0.00096344, -0.0009622 , -0.00096097, -0.00095974, -0.00095852,\n",
       "       -0.0009573 , -0.00095608, -0.00095486, -0.00095365, -0.00095244,\n",
       "       -0.00095124, -0.00095003, -0.00094883, -0.00094764, -0.00094644,\n",
       "       -0.00094525, -0.00094407, -0.00094288, -0.0009417 , -0.00094053,\n",
       "       -0.00093935, -0.00093818, -0.00093701, -0.00093585, -0.00093468,\n",
       "       -0.00093352, -0.00093237, -0.00093121, -0.00093006, -0.00092891,\n",
       "       -0.00092777, -0.00092663, -0.00092549, -0.00092435, -0.00092322,\n",
       "       -0.00092209, -0.00092096, -0.00091984, -0.00091871, -0.00091759,\n",
       "       -0.00091648, -0.00091536, -0.00091425, -0.00091315, -0.00091204,\n",
       "       -0.00091094, -0.00090984, -0.00090874, -0.00090765, -0.00090656,\n",
       "       -0.00090547, -0.00090438, -0.0009033 , -0.00090222, -0.00090114,\n",
       "       -0.00090006, -0.00089899, -0.00089792, -0.00089685, -0.00089579,\n",
       "       -0.00089473, -0.00089367, -0.00089261, -0.00089155, -0.0008905 ,\n",
       "       -0.00088945, -0.00088841, -0.00088736, -0.00088632, -0.00088528])"
      ]
     },
     "execution_count": 14,
     "metadata": {},
     "output_type": "execute_result"
    }
   ],
   "source": [
    "data"
   ]
  },
  {
   "cell_type": "code",
   "execution_count": 15,
   "metadata": {},
   "outputs": [
    {
     "data": {
      "text/plain": [
       "array([    0.        ,    50.05005005,   100.1001001 ,   150.15015015,\n",
       "         200.2002002 ,   250.25025025,   300.3003003 ,   350.35035035,\n",
       "         400.4004004 ,   450.45045045,   500.5005005 ,   550.55055055,\n",
       "         600.6006006 ,   650.65065065,   700.7007007 ,   750.75075075,\n",
       "         800.8008008 ,   850.85085085,   900.9009009 ,   950.95095095,\n",
       "        1001.001001  ,  1051.05105105,  1101.1011011 ,  1151.15115115,\n",
       "        1201.2012012 ,  1251.25125125,  1301.3013013 ,  1351.35135135,\n",
       "        1401.4014014 ,  1451.45145145,  1501.5015015 ,  1551.55155155,\n",
       "        1601.6016016 ,  1651.65165165,  1701.7017017 ,  1751.75175175,\n",
       "        1801.8018018 ,  1851.85185185,  1901.9019019 ,  1951.95195195,\n",
       "        2002.002002  ,  2052.05205205,  2102.1021021 ,  2152.15215215,\n",
       "        2202.2022022 ,  2252.25225225,  2302.3023023 ,  2352.35235235,\n",
       "        2402.4024024 ,  2452.45245245,  2502.5025025 ,  2552.55255255,\n",
       "        2602.6026026 ,  2652.65265265,  2702.7027027 ,  2752.75275275,\n",
       "        2802.8028028 ,  2852.85285285,  2902.9029029 ,  2952.95295295,\n",
       "        3003.003003  ,  3053.05305305,  3103.1031031 ,  3153.15315315,\n",
       "        3203.2032032 ,  3253.25325325,  3303.3033033 ,  3353.35335335,\n",
       "        3403.4034034 ,  3453.45345345,  3503.5035035 ,  3553.55355355,\n",
       "        3603.6036036 ,  3653.65365365,  3703.7037037 ,  3753.75375375,\n",
       "        3803.8038038 ,  3853.85385385,  3903.9039039 ,  3953.95395395,\n",
       "        4004.004004  ,  4054.05405405,  4104.1041041 ,  4154.15415415,\n",
       "        4204.2042042 ,  4254.25425425,  4304.3043043 ,  4354.35435435,\n",
       "        4404.4044044 ,  4454.45445445,  4504.5045045 ,  4554.55455455,\n",
       "        4604.6046046 ,  4654.65465465,  4704.7047047 ,  4754.75475475,\n",
       "        4804.8048048 ,  4854.85485485,  4904.9049049 ,  4954.95495495,\n",
       "        5005.00500501,  5055.05505506,  5105.10510511,  5155.15515516,\n",
       "        5205.20520521,  5255.25525526,  5305.30530531,  5355.35535536,\n",
       "        5405.40540541,  5455.45545546,  5505.50550551,  5555.55555556,\n",
       "        5605.60560561,  5655.65565566,  5705.70570571,  5755.75575576,\n",
       "        5805.80580581,  5855.85585586,  5905.90590591,  5955.95595596,\n",
       "        6006.00600601,  6056.05605606,  6106.10610611,  6156.15615616,\n",
       "        6206.20620621,  6256.25625626,  6306.30630631,  6356.35635636,\n",
       "        6406.40640641,  6456.45645646,  6506.50650651,  6556.55655656,\n",
       "        6606.60660661,  6656.65665666,  6706.70670671,  6756.75675676,\n",
       "        6806.80680681,  6856.85685686,  6906.90690691,  6956.95695696,\n",
       "        7007.00700701,  7057.05705706,  7107.10710711,  7157.15715716,\n",
       "        7207.20720721,  7257.25725726,  7307.30730731,  7357.35735736,\n",
       "        7407.40740741,  7457.45745746,  7507.50750751,  7557.55755756,\n",
       "        7607.60760761,  7657.65765766,  7707.70770771,  7757.75775776,\n",
       "        7807.80780781,  7857.85785786,  7907.90790791,  7957.95795796,\n",
       "        8008.00800801,  8058.05805806,  8108.10810811,  8158.15815816,\n",
       "        8208.20820821,  8258.25825826,  8308.30830831,  8358.35835836,\n",
       "        8408.40840841,  8458.45845846,  8508.50850851,  8558.55855856,\n",
       "        8608.60860861,  8658.65865866,  8708.70870871,  8758.75875876,\n",
       "        8808.80880881,  8858.85885886,  8908.90890891,  8958.95895896,\n",
       "        9009.00900901,  9059.05905906,  9109.10910911,  9159.15915916,\n",
       "        9209.20920921,  9259.25925926,  9309.30930931,  9359.35935936,\n",
       "        9409.40940941,  9459.45945946,  9509.50950951,  9559.55955956,\n",
       "        9609.60960961,  9659.65965966,  9709.70970971,  9759.75975976,\n",
       "        9809.80980981,  9859.85985986,  9909.90990991,  9959.95995996,\n",
       "       10010.01001001, 10060.06006006, 10110.11011011, 10160.16016016,\n",
       "       10210.21021021, 10260.26026026, 10310.31031031, 10360.36036036,\n",
       "       10410.41041041, 10460.46046046, 10510.51051051, 10560.56056056,\n",
       "       10610.61061061, 10660.66066066, 10710.71071071, 10760.76076076,\n",
       "       10810.81081081, 10860.86086086, 10910.91091091, 10960.96096096,\n",
       "       11011.01101101, 11061.06106106, 11111.11111111, 11161.16116116,\n",
       "       11211.21121121, 11261.26126126, 11311.31131131, 11361.36136136,\n",
       "       11411.41141141, 11461.46146146, 11511.51151151, 11561.56156156,\n",
       "       11611.61161161, 11661.66166166, 11711.71171171, 11761.76176176,\n",
       "       11811.81181181, 11861.86186186, 11911.91191191, 11961.96196196,\n",
       "       12012.01201201, 12062.06206206, 12112.11211211, 12162.16216216,\n",
       "       12212.21221221, 12262.26226226, 12312.31231231, 12362.36236236,\n",
       "       12412.41241241, 12462.46246246, 12512.51251251, 12562.56256256,\n",
       "       12612.61261261, 12662.66266266, 12712.71271271, 12762.76276276,\n",
       "       12812.81281281, 12862.86286286, 12912.91291291, 12962.96296296,\n",
       "       13013.01301301, 13063.06306306, 13113.11311311, 13163.16316316,\n",
       "       13213.21321321, 13263.26326326, 13313.31331331, 13363.36336336,\n",
       "       13413.41341341, 13463.46346346, 13513.51351351, 13563.56356356,\n",
       "       13613.61361361, 13663.66366366, 13713.71371371, 13763.76376376,\n",
       "       13813.81381381, 13863.86386386, 13913.91391391, 13963.96396396,\n",
       "       14014.01401401, 14064.06406406, 14114.11411411, 14164.16416416,\n",
       "       14214.21421421, 14264.26426426, 14314.31431431, 14364.36436436,\n",
       "       14414.41441441, 14464.46446446, 14514.51451451, 14564.56456456,\n",
       "       14614.61461461, 14664.66466466, 14714.71471471, 14764.76476476,\n",
       "       14814.81481481, 14864.86486486, 14914.91491491, 14964.96496496,\n",
       "       15015.01501502, 15065.06506507, 15115.11511512, 15165.16516517,\n",
       "       15215.21521522, 15265.26526527, 15315.31531532, 15365.36536537,\n",
       "       15415.41541542, 15465.46546547, 15515.51551552, 15565.56556557,\n",
       "       15615.61561562, 15665.66566567, 15715.71571572, 15765.76576577,\n",
       "       15815.81581582, 15865.86586587, 15915.91591592, 15965.96596597,\n",
       "       16016.01601602, 16066.06606607, 16116.11611612, 16166.16616617,\n",
       "       16216.21621622, 16266.26626627, 16316.31631632, 16366.36636637,\n",
       "       16416.41641642, 16466.46646647, 16516.51651652, 16566.56656657,\n",
       "       16616.61661662, 16666.66666667, 16716.71671672, 16766.76676677,\n",
       "       16816.81681682, 16866.86686687, 16916.91691692, 16966.96696697,\n",
       "       17017.01701702, 17067.06706707, 17117.11711712, 17167.16716717,\n",
       "       17217.21721722, 17267.26726727, 17317.31731732, 17367.36736737,\n",
       "       17417.41741742, 17467.46746747, 17517.51751752, 17567.56756757,\n",
       "       17617.61761762, 17667.66766767, 17717.71771772, 17767.76776777,\n",
       "       17817.81781782, 17867.86786787, 17917.91791792, 17967.96796797,\n",
       "       18018.01801802, 18068.06806807, 18118.11811812, 18168.16816817,\n",
       "       18218.21821822, 18268.26826827, 18318.31831832, 18368.36836837,\n",
       "       18418.41841842, 18468.46846847, 18518.51851852, 18568.56856857,\n",
       "       18618.61861862, 18668.66866867, 18718.71871872, 18768.76876877,\n",
       "       18818.81881882, 18868.86886887, 18918.91891892, 18968.96896897,\n",
       "       19019.01901902, 19069.06906907, 19119.11911912, 19169.16916917,\n",
       "       19219.21921922, 19269.26926927, 19319.31931932, 19369.36936937,\n",
       "       19419.41941942, 19469.46946947, 19519.51951952, 19569.56956957,\n",
       "       19619.61961962, 19669.66966967, 19719.71971972, 19769.76976977,\n",
       "       19819.81981982, 19869.86986987, 19919.91991992, 19969.96996997,\n",
       "       20020.02002002, 20070.07007007, 20120.12012012, 20170.17017017,\n",
       "       20220.22022022, 20270.27027027, 20320.32032032, 20370.37037037,\n",
       "       20420.42042042, 20470.47047047, 20520.52052052, 20570.57057057,\n",
       "       20620.62062062, 20670.67067067, 20720.72072072, 20770.77077077,\n",
       "       20820.82082082, 20870.87087087, 20920.92092092, 20970.97097097,\n",
       "       21021.02102102, 21071.07107107, 21121.12112112, 21171.17117117,\n",
       "       21221.22122122, 21271.27127127, 21321.32132132, 21371.37137137,\n",
       "       21421.42142142, 21471.47147147, 21521.52152152, 21571.57157157,\n",
       "       21621.62162162, 21671.67167167, 21721.72172172, 21771.77177177,\n",
       "       21821.82182182, 21871.87187187, 21921.92192192, 21971.97197197,\n",
       "       22022.02202202, 22072.07207207, 22122.12212212, 22172.17217217,\n",
       "       22222.22222222, 22272.27227227, 22322.32232232, 22372.37237237,\n",
       "       22422.42242242, 22472.47247247, 22522.52252252, 22572.57257257,\n",
       "       22622.62262262, 22672.67267267, 22722.72272272, 22772.77277277,\n",
       "       22822.82282282, 22872.87287287, 22922.92292292, 22972.97297297,\n",
       "       23023.02302302, 23073.07307307, 23123.12312312, 23173.17317317,\n",
       "       23223.22322322, 23273.27327327, 23323.32332332, 23373.37337337,\n",
       "       23423.42342342, 23473.47347347, 23523.52352352, 23573.57357357,\n",
       "       23623.62362362, 23673.67367367, 23723.72372372, 23773.77377377,\n",
       "       23823.82382382, 23873.87387387, 23923.92392392, 23973.97397397,\n",
       "       24024.02402402, 24074.07407407, 24124.12412412, 24174.17417417,\n",
       "       24224.22422422, 24274.27427427, 24324.32432432, 24374.37437437,\n",
       "       24424.42442442, 24474.47447447, 24524.52452452, 24574.57457457,\n",
       "       24624.62462462, 24674.67467467, 24724.72472472, 24774.77477477,\n",
       "       24824.82482482, 24874.87487487, 24924.92492492, 24974.97497497,\n",
       "       25025.02502503, 25075.07507508, 25125.12512513, 25175.17517518,\n",
       "       25225.22522523, 25275.27527528, 25325.32532533, 25375.37537538,\n",
       "       25425.42542543, 25475.47547548, 25525.52552553, 25575.57557558,\n",
       "       25625.62562563, 25675.67567568, 25725.72572573, 25775.77577578,\n",
       "       25825.82582583, 25875.87587588, 25925.92592593, 25975.97597598,\n",
       "       26026.02602603, 26076.07607608, 26126.12612613, 26176.17617618,\n",
       "       26226.22622623, 26276.27627628, 26326.32632633, 26376.37637638,\n",
       "       26426.42642643, 26476.47647648, 26526.52652653, 26576.57657658,\n",
       "       26626.62662663, 26676.67667668, 26726.72672673, 26776.77677678,\n",
       "       26826.82682683, 26876.87687688, 26926.92692693, 26976.97697698,\n",
       "       27027.02702703, 27077.07707708, 27127.12712713, 27177.17717718,\n",
       "       27227.22722723, 27277.27727728, 27327.32732733, 27377.37737738,\n",
       "       27427.42742743, 27477.47747748, 27527.52752753, 27577.57757758,\n",
       "       27627.62762763, 27677.67767768, 27727.72772773, 27777.77777778,\n",
       "       27827.82782783, 27877.87787788, 27927.92792793, 27977.97797798,\n",
       "       28028.02802803, 28078.07807808, 28128.12812813, 28178.17817818,\n",
       "       28228.22822823, 28278.27827828, 28328.32832833, 28378.37837838,\n",
       "       28428.42842843, 28478.47847848, 28528.52852853, 28578.57857858,\n",
       "       28628.62862863, 28678.67867868, 28728.72872873, 28778.77877878,\n",
       "       28828.82882883, 28878.87887888, 28928.92892893, 28978.97897898,\n",
       "       29029.02902903, 29079.07907908, 29129.12912913, 29179.17917918,\n",
       "       29229.22922923, 29279.27927928, 29329.32932933, 29379.37937938,\n",
       "       29429.42942943, 29479.47947948, 29529.52952953, 29579.57957958,\n",
       "       29629.62962963, 29679.67967968, 29729.72972973, 29779.77977978,\n",
       "       29829.82982983, 29879.87987988, 29929.92992993, 29979.97997998,\n",
       "       30030.03003003, 30080.08008008, 30130.13013013, 30180.18018018,\n",
       "       30230.23023023, 30280.28028028, 30330.33033033, 30380.38038038,\n",
       "       30430.43043043, 30480.48048048, 30530.53053053, 30580.58058058,\n",
       "       30630.63063063, 30680.68068068, 30730.73073073, 30780.78078078,\n",
       "       30830.83083083, 30880.88088088, 30930.93093093, 30980.98098098,\n",
       "       31031.03103103, 31081.08108108, 31131.13113113, 31181.18118118,\n",
       "       31231.23123123, 31281.28128128, 31331.33133133, 31381.38138138,\n",
       "       31431.43143143, 31481.48148148, 31531.53153153, 31581.58158158,\n",
       "       31631.63163163, 31681.68168168, 31731.73173173, 31781.78178178,\n",
       "       31831.83183183, 31881.88188188, 31931.93193193, 31981.98198198,\n",
       "       32032.03203203, 32082.08208208, 32132.13213213, 32182.18218218,\n",
       "       32232.23223223, 32282.28228228, 32332.33233233, 32382.38238238,\n",
       "       32432.43243243, 32482.48248248, 32532.53253253, 32582.58258258,\n",
       "       32632.63263263, 32682.68268268, 32732.73273273, 32782.78278278,\n",
       "       32832.83283283, 32882.88288288, 32932.93293293, 32982.98298298,\n",
       "       33033.03303303, 33083.08308308, 33133.13313313, 33183.18318318,\n",
       "       33233.23323323, 33283.28328328, 33333.33333333, 33383.38338338,\n",
       "       33433.43343343, 33483.48348348, 33533.53353353, 33583.58358358,\n",
       "       33633.63363363, 33683.68368368, 33733.73373373, 33783.78378378,\n",
       "       33833.83383383, 33883.88388388, 33933.93393393, 33983.98398398,\n",
       "       34034.03403403, 34084.08408408, 34134.13413413, 34184.18418418,\n",
       "       34234.23423423, 34284.28428428, 34334.33433433, 34384.38438438,\n",
       "       34434.43443443, 34484.48448448, 34534.53453453, 34584.58458458,\n",
       "       34634.63463463, 34684.68468468, 34734.73473473, 34784.78478478,\n",
       "       34834.83483483, 34884.88488488, 34934.93493493, 34984.98498498,\n",
       "       35035.03503504, 35085.08508509, 35135.13513514, 35185.18518519,\n",
       "       35235.23523524, 35285.28528529, 35335.33533534, 35385.38538539,\n",
       "       35435.43543544, 35485.48548549, 35535.53553554, 35585.58558559,\n",
       "       35635.63563564, 35685.68568569, 35735.73573574, 35785.78578579,\n",
       "       35835.83583584, 35885.88588589, 35935.93593594, 35985.98598599,\n",
       "       36036.03603604, 36086.08608609, 36136.13613614, 36186.18618619,\n",
       "       36236.23623624, 36286.28628629, 36336.33633634, 36386.38638639,\n",
       "       36436.43643644, 36486.48648649, 36536.53653654, 36586.58658659,\n",
       "       36636.63663664, 36686.68668669, 36736.73673674, 36786.78678679,\n",
       "       36836.83683684, 36886.88688689, 36936.93693694, 36986.98698699,\n",
       "       37037.03703704, 37087.08708709, 37137.13713714, 37187.18718719,\n",
       "       37237.23723724, 37287.28728729, 37337.33733734, 37387.38738739,\n",
       "       37437.43743744, 37487.48748749, 37537.53753754, 37587.58758759,\n",
       "       37637.63763764, 37687.68768769, 37737.73773774, 37787.78778779,\n",
       "       37837.83783784, 37887.88788789, 37937.93793794, 37987.98798799,\n",
       "       38038.03803804, 38088.08808809, 38138.13813814, 38188.18818819,\n",
       "       38238.23823824, 38288.28828829, 38338.33833834, 38388.38838839,\n",
       "       38438.43843844, 38488.48848849, 38538.53853854, 38588.58858859,\n",
       "       38638.63863864, 38688.68868869, 38738.73873874, 38788.78878879,\n",
       "       38838.83883884, 38888.88888889, 38938.93893894, 38988.98898899,\n",
       "       39039.03903904, 39089.08908909, 39139.13913914, 39189.18918919,\n",
       "       39239.23923924, 39289.28928929, 39339.33933934, 39389.38938939,\n",
       "       39439.43943944, 39489.48948949, 39539.53953954, 39589.58958959,\n",
       "       39639.63963964, 39689.68968969, 39739.73973974, 39789.78978979,\n",
       "       39839.83983984, 39889.88988989, 39939.93993994, 39989.98998999,\n",
       "       40040.04004004, 40090.09009009, 40140.14014014, 40190.19019019,\n",
       "       40240.24024024, 40290.29029029, 40340.34034034, 40390.39039039,\n",
       "       40440.44044044, 40490.49049049, 40540.54054054, 40590.59059059,\n",
       "       40640.64064064, 40690.69069069, 40740.74074074, 40790.79079079,\n",
       "       40840.84084084, 40890.89089089, 40940.94094094, 40990.99099099,\n",
       "       41041.04104104, 41091.09109109, 41141.14114114, 41191.19119119,\n",
       "       41241.24124124, 41291.29129129, 41341.34134134, 41391.39139139,\n",
       "       41441.44144144, 41491.49149149, 41541.54154154, 41591.59159159,\n",
       "       41641.64164164, 41691.69169169, 41741.74174174, 41791.79179179,\n",
       "       41841.84184184, 41891.89189189, 41941.94194194, 41991.99199199,\n",
       "       42042.04204204, 42092.09209209, 42142.14214214, 42192.19219219,\n",
       "       42242.24224224, 42292.29229229, 42342.34234234, 42392.39239239,\n",
       "       42442.44244244, 42492.49249249, 42542.54254254, 42592.59259259,\n",
       "       42642.64264264, 42692.69269269, 42742.74274274, 42792.79279279,\n",
       "       42842.84284284, 42892.89289289, 42942.94294294, 42992.99299299,\n",
       "       43043.04304304, 43093.09309309, 43143.14314314, 43193.19319319,\n",
       "       43243.24324324, 43293.29329329, 43343.34334334, 43393.39339339,\n",
       "       43443.44344344, 43493.49349349, 43543.54354354, 43593.59359359,\n",
       "       43643.64364364, 43693.69369369, 43743.74374374, 43793.79379379,\n",
       "       43843.84384384, 43893.89389389, 43943.94394394, 43993.99399399,\n",
       "       44044.04404404, 44094.09409409, 44144.14414414, 44194.19419419,\n",
       "       44244.24424424, 44294.29429429, 44344.34434434, 44394.39439439,\n",
       "       44444.44444444, 44494.49449449, 44544.54454454, 44594.59459459,\n",
       "       44644.64464464, 44694.69469469, 44744.74474474, 44794.79479479,\n",
       "       44844.84484484, 44894.89489489, 44944.94494494, 44994.99499499,\n",
       "       45045.04504505, 45095.0950951 , 45145.14514515, 45195.1951952 ,\n",
       "       45245.24524525, 45295.2952953 , 45345.34534535, 45395.3953954 ,\n",
       "       45445.44544545, 45495.4954955 , 45545.54554555, 45595.5955956 ,\n",
       "       45645.64564565, 45695.6956957 , 45745.74574575, 45795.7957958 ,\n",
       "       45845.84584585, 45895.8958959 , 45945.94594595, 45995.995996  ,\n",
       "       46046.04604605, 46096.0960961 , 46146.14614615, 46196.1961962 ,\n",
       "       46246.24624625, 46296.2962963 , 46346.34634635, 46396.3963964 ,\n",
       "       46446.44644645, 46496.4964965 , 46546.54654655, 46596.5965966 ,\n",
       "       46646.64664665, 46696.6966967 , 46746.74674675, 46796.7967968 ,\n",
       "       46846.84684685, 46896.8968969 , 46946.94694695, 46996.996997  ,\n",
       "       47047.04704705, 47097.0970971 , 47147.14714715, 47197.1971972 ,\n",
       "       47247.24724725, 47297.2972973 , 47347.34734735, 47397.3973974 ,\n",
       "       47447.44744745, 47497.4974975 , 47547.54754755, 47597.5975976 ,\n",
       "       47647.64764765, 47697.6976977 , 47747.74774775, 47797.7977978 ,\n",
       "       47847.84784785, 47897.8978979 , 47947.94794795, 47997.997998  ,\n",
       "       48048.04804805, 48098.0980981 , 48148.14814815, 48198.1981982 ,\n",
       "       48248.24824825, 48298.2982983 , 48348.34834835, 48398.3983984 ,\n",
       "       48448.44844845, 48498.4984985 , 48548.54854855, 48598.5985986 ,\n",
       "       48648.64864865, 48698.6986987 , 48748.74874875, 48798.7987988 ,\n",
       "       48848.84884885, 48898.8988989 , 48948.94894895, 48998.998999  ,\n",
       "       49049.04904905, 49099.0990991 , 49149.14914915, 49199.1991992 ,\n",
       "       49249.24924925, 49299.2992993 , 49349.34934935, 49399.3993994 ,\n",
       "       49449.44944945, 49499.4994995 , 49549.54954955, 49599.5995996 ,\n",
       "       49649.64964965, 49699.6996997 , 49749.74974975, 49799.7997998 ,\n",
       "       49849.84984985, 49899.8998999 , 49949.94994995, 50000.        ])"
      ]
     },
     "execution_count": 15,
     "metadata": {},
     "output_type": "execute_result"
    }
   ],
   "source": [
    "survey.rx_locations[:,0]\n"
   ]
  },
  {
   "cell_type": "code",
   "execution_count": null,
   "metadata": {},
   "outputs": [],
   "source": []
  }
 ],
 "metadata": {
  "kernelspec": {
   "display_name": "Python 3",
   "language": "python",
   "name": "python3"
  },
  "language_info": {
   "codemirror_mode": {
    "name": "ipython",
    "version": 3
   },
   "file_extension": ".py",
   "mimetype": "text/x-python",
   "name": "python",
   "nbconvert_exporter": "python",
   "pygments_lexer": "ipython3",
   "version": "3.6.6"
  }
 },
 "nbformat": 4,
 "nbformat_minor": 2
}
